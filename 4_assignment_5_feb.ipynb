{
 "cells": [
  {
   "cell_type": "code",
   "execution_count": 2,
   "id": "1477c5e9-ddd6-4168-aab8-090ad244d2ff",
   "metadata": {},
   "outputs": [],
   "source": [
    "# Q1. Explain Class and Object with respect to Object-Oriented Programming. Give a suitable example."
   ]
  },
  {
   "cell_type": "code",
   "execution_count": 4,
   "id": "46e1b11b-cd11-4e6f-b3fb-0a278878c92d",
   "metadata": {},
   "outputs": [
    {
     "name": "stdout",
     "output_type": "stream",
     "text": [
      "Toyota\n",
      "Red\n",
      "Engine started!\n",
      "Car is being driven.\n",
      "Engine stopped.\n"
     ]
    }
   ],
   "source": [
    "# In object-oriented programming (OOP), a class is a blueprint or a template for creating objects.\n",
    "# It defines the attributes (data) and behaviors (methods) that objects of that class will possess\n",
    "# An object, on the other hand, is an instance of a class.\n",
    "# Objects have their own unique state (attribute values) and behavior (method implementations) based on the class\n",
    "# from which they are instantiated.\n",
    "# example\n",
    "class Car:\n",
    "    def __init__(self, brand, model, color):\n",
    "        self.brand = brand\n",
    "        self.model = model\n",
    "        self.color = color\n",
    "    \n",
    "    def start_engine(self):\n",
    "        print(\"Engine started!\")\n",
    "    \n",
    "    def drive(self):\n",
    "        print(\"Car is being driven.\")\n",
    "    \n",
    "    def stop_engine(self):\n",
    "        print(\"Engine stopped.\")\n",
    "\n",
    "# Creating objects of the Car class\n",
    "car1 = Car(\"Toyota\", \"Camry\", \"Blue\")\n",
    "car2 = Car(\"Honda\", \"Civic\", \"Red\")\n",
    "\n",
    "# Accessing object attributes\n",
    "print(car1.brand)  # Output: Toyota\n",
    "print(car2.color)  # Output: Red\n",
    "\n",
    "# Calling object methods\n",
    "car1.start_engine()  # Output: Engine started!\n",
    "car2.drive()        # Output: Car is being driven.\n",
    "car1.stop_engine()  # Output: Engine stopped.\n",
    "\n",
    "# In this example, the Car class is defined with attributes such as brand, model, and color, as well as methods\n",
    "# such as start_engine(), drive(), and stop_engine(). The __init__() method is a special method called the \n",
    "# constructor, which is used to initialize the object's attributes when an object is created.\n",
    "\n",
    "# We create two objects, car1 and car2,of the Car class.Each object has its own distinct state(attribute values)\n",
    "#based on the class definition.We can access the attributes of each object using dot notation(object.attribute).\n",
    "                                                                                    \n",
    "\n",
    "# Additionally, we can call the methods of the objects (car1.start_engine(), car2.drive(), car1.stop_engine())\n",
    "# to perform certain actions specific to those objects.\n"
   ]
  },
  {
   "cell_type": "code",
   "execution_count": 5,
   "id": "754ed72a-f60b-4c6f-84e2-ecb3891486dc",
   "metadata": {},
   "outputs": [],
   "source": [
    "# Q2. Name the four pillars of OOPs."
   ]
  },
  {
   "cell_type": "code",
   "execution_count": 6,
   "id": "dae0409f-ccdc-493b-8ef3-8f0dd935cfc1",
   "metadata": {},
   "outputs": [],
   "source": [
    "# The four pillars of object-oriented programming (OOP) are:\n",
    "\n",
    "# Encapsulation: Encapsulation is the process of bundling data and related methods (functions) together within a\n",
    "# class. It involves hiding the internal details and implementation of an object and providing a public interface\n",
    "# for interacting with it. Encapsulation helps in achieving data abstraction, data protection, and code \n",
    "# organization.\n",
    "\n",
    "# Inheritance: Inheritance allows the creation of new classes (derived classes) based on existing classes \n",
    "# (base or parent classes). The derived class inherits the attributes and behaviors of the base class, \n",
    "# which can be extended or modified as needed. Inheritance promotes code reuse, modularity, and hierarchical\n",
    "# organization of classes.\n",
    "\n",
    "# Polymorphism: Polymorphism refers to the ability of objects of different classes to respond to the same method\n",
    "# or message in different ways. It allows a single interface or method name to be used for objects of different \n",
    "# classes, providing flexibility and code extensibility. Polymorphism is typically achieved through method \n",
    "# overriding and method overloading.\n",
    "\n",
    "# Abstraction: Abstraction focuses on providing a simplified and generalized view of objects or systems by \n",
    "# emphasizing essential features and hiding unnecessary details. It allows programmers to represent complex\n",
    "# real-world entities as classes and objects, abstracting away the complexity. Abstraction helps in managing \n",
    "# complexity, increasing code reusability, and facilitating modular design."
   ]
  },
  {
   "cell_type": "code",
   "execution_count": null,
   "id": "c86e22ad-c288-42f0-b419-2b99740d3b15",
   "metadata": {},
   "outputs": [],
   "source": [
    "# Q3. Explain why the __init__() function is used. Give a suitable example."
   ]
  },
  {
   "cell_type": "code",
   "execution_count": 7,
   "id": "f946b391-fc31-4dfc-b262-8be6d0ca363f",
   "metadata": {},
   "outputs": [
    {
     "name": "stdout",
     "output_type": "stream",
     "text": [
      "John Doe\n",
      "25\n",
      "My name is John Doe and I am 25 years old.\n"
     ]
    }
   ],
   "source": [
    "# The __init__() function is a special method in Python classes that is automatically called when an \n",
    "# object is created from the class. It is commonly known as the constructor method. \n",
    "# The primary purpose of the __init__() method is to initialize the attributes of an object with specific values \n",
    "# at the time of creation.\n",
    "\n",
    "class Person:\n",
    "    def __init__(self, name, age):\n",
    "        self.name = name\n",
    "        self.age = age\n",
    "    \n",
    "    def introduce(self):\n",
    "        print(f\"My name is {self.name} and I am {self.age} years old.\")\n",
    "\n",
    "# Creating an object of the Person class\n",
    "person1 = Person(\"John Doe\", 25)\n",
    "\n",
    "# Accessing object attributes\n",
    "print(person1.name)  # Output: John Doe\n",
    "print(person1.age)   # Output: 25\n",
    "\n",
    "# Calling object method\n",
    "person1.introduce()  # Output: My name is John Doe and I am 25 years old.\n"
   ]
  },
  {
   "cell_type": "code",
   "execution_count": 8,
   "id": "77aede4d-f778-4396-aca7-0031a63fb211",
   "metadata": {},
   "outputs": [],
   "source": [
    "# Q4. Why self is used in OOPs?"
   ]
  },
  {
   "cell_type": "code",
   "execution_count": 9,
   "id": "55470cfc-4cb8-45b1-a9f2-3d6f1e419b5a",
   "metadata": {},
   "outputs": [
    {
     "name": "stdout",
     "output_type": "stream",
     "text": [
      "78.5\n"
     ]
    }
   ],
   "source": [
    "# The self parameter allows an object to refer to its own attributes and methods within its own code.\n",
    "# It provides a way for an object to differentiate between its own attributes and methods versus those defined\n",
    "# in the class itself.\n",
    "class Circle:\n",
    "    def __init__(self, radius):\n",
    "        self.radius = radius\n",
    "    \n",
    "    def calculate_area(self):\n",
    "        area = 3.14 * self.radius ** 2\n",
    "        return area\n",
    "\n",
    "# Creating an object of the Circle class\n",
    "circle = Circle(5)\n",
    "print(circle.calculate_area())  # Output: 78.5\n"
   ]
  },
  {
   "cell_type": "code",
   "execution_count": 10,
   "id": "c51eaec5-5a51-4d77-a14b-a374ad97ee09",
   "metadata": {},
   "outputs": [],
   "source": [
    "# Q5. What is inheritance? Give an example for each type of inheritance."
   ]
  },
  {
   "cell_type": "code",
   "execution_count": 11,
   "id": "d6dd1c7f-0bba-4182-987f-891f3f83747e",
   "metadata": {},
   "outputs": [
    {
     "name": "stdout",
     "output_type": "stream",
     "text": [
      "Buddy\n",
      "Animal speaks...\n",
      "Dog barks!\n",
      "Flyer flies!\n",
      "Swimmer swims!\n",
      "Duck quacks!\n",
      "Tesla\n"
     ]
    }
   ],
   "source": [
    "# Inheritance is a fundamental concept in object-oriented programming (OOP) that allows the creation of new\n",
    "# classes (derived classes) based on existing classes (base or parent classes). The derived class inherits\n",
    "# the attributes and behaviors (methods) of the base class, which can be extended, modified, or overridden in \n",
    "# the derived class. Inheritance promotes code reuse, modularity, and the hierarchical organization of classes.\n",
    "\n",
    "# There are different types of inheritance in OOP. Let's explore each type with an example:\n",
    "\n",
    "# Single Inheritance:\n",
    "# Single inheritance involves the creation of a derived class that inherits from a single base class.\n",
    "# It forms a parent-child relationship between the classes.\n",
    "class Animal:\n",
    "    def __init__(self, name):\n",
    "        self.name = name\n",
    "        \n",
    "    def speak(self):\n",
    "        print(\"Animal speaks...\")\n",
    "\n",
    "class Dog(Animal):\n",
    "    def bark(self):\n",
    "        print(\"Dog barks!\")\n",
    "\n",
    "# Creating an object of the derived class\n",
    "dog = Dog(\"Buddy\")\n",
    "\n",
    "# Accessing inherited attributes and methods\n",
    "print(dog.name)     # Output: Buddy\n",
    "dog.speak()         # Output: Animal speaks...\n",
    "\n",
    "# Calling derived class method\n",
    "dog.bark()          # Output: Dog barks!\n",
    "\n",
    "# Multiple Inheritance:\n",
    "# Multiple inheritance involves inheriting from more than one base class. \n",
    "# A derived class can inherit attributes and methods from multiple base classes.\n",
    "class Flyer:\n",
    "    def fly(self):\n",
    "        print(\"Flyer flies!\")\n",
    "\n",
    "class Swimmer:\n",
    "    def swim(self):\n",
    "        print(\"Swimmer swims!\")\n",
    "\n",
    "class Duck(Flyer, Swimmer):\n",
    "    def quack(self):\n",
    "        print(\"Duck quacks!\")\n",
    "\n",
    "# Creating an object of the derived class\n",
    "duck = Duck()\n",
    "\n",
    "# Accessing inherited attributes and methods\n",
    "duck.fly()          # Output: Flyer flies!\n",
    "duck.swim()         # Output: Swimmer swims!\n",
    "\n",
    "# Calling derived class method\n",
    "duck.quack()        # Output: Duck quacks!\n",
    "\n",
    "# Multilevel Inheritance:\n",
    "# Multilevel inheritance involves a chain of inheritance, where a derived class becomes the base class for\n",
    "# another derived class. It forms a parent-child-grandchild relationship between the classes.\n",
    "\n",
    "class Vehicle:\n",
    "    def __init__(self, name):\n",
    "        self.name = name\n",
    "\n",
    "class Car(Vehicle):\n",
    "    def drive(self):\n",
    "        print(\"Car is being driven!\")\n",
    "\n",
    "class ElectricCar(Car):\n",
    "    def charge(self):\n",
    "        print(\"Electric car is charging!\")\n",
    "\n",
    "# Creating an object of the derived class\n",
    "electric_car = ElectricCar(\"Tesla\")\n",
    "\n",
    "# Accessing inherited attributes\n",
    "print(electric_car.name)     # Output: Tesla\n"
   ]
  },
  {
   "cell_type": "code",
   "execution_count": null,
   "id": "1bcd47f4-3eda-4268-ae8a-09037d04eb14",
   "metadata": {},
   "outputs": [],
   "source": []
  }
 ],
 "metadata": {
  "kernelspec": {
   "display_name": "Python 3 (ipykernel)",
   "language": "python",
   "name": "python3"
  },
  "language_info": {
   "codemirror_mode": {
    "name": "ipython",
    "version": 3
   },
   "file_extension": ".py",
   "mimetype": "text/x-python",
   "name": "python",
   "nbconvert_exporter": "python",
   "pygments_lexer": "ipython3",
   "version": "3.10.8"
  }
 },
 "nbformat": 4,
 "nbformat_minor": 5
}
