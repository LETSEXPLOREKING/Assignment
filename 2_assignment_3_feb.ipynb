{
 "cells": [
  {
   "cell_type": "code",
   "execution_count": 1,
   "id": "449f1da0-efdd-4f6f-bee4-8175ad1bce0d",
   "metadata": {},
   "outputs": [],
   "source": [
    "# Q1. Which keyword is used to create a function? Create a function to return a list of odd numbers in the\n",
    "# range of 1 to 25."
   ]
  },
  {
   "cell_type": "code",
   "execution_count": 1,
   "id": "df4b45f7-857c-4775-b7c4-ef5cd1be2497",
   "metadata": {},
   "outputs": [
    {
     "name": "stdout",
     "output_type": "stream",
     "text": [
      "[1, 3, 5, 7, 9, 11, 13, 15, 17, 19, 21, 23, 25]\n"
     ]
    }
   ],
   "source": [
    "# #ANS-1\n",
    "# The keyword used to create a function in Python is def. \n",
    "# Here's an example of a function that returns a list of odd numbers in the range of 1 to 25:\n",
    "def odd():\n",
    "    l=[]\n",
    "    for i in range(1,26):\n",
    "        if i%2!=0:\n",
    "            l.append(i)\n",
    "    return l\n",
    "\n",
    "a=odd()\n",
    "print(a)"
   ]
  },
  {
   "cell_type": "code",
   "execution_count": 2,
   "id": "e22b1856-6263-45e2-b98d-b4ca1dc436c7",
   "metadata": {},
   "outputs": [],
   "source": [
    "# Q2. Why *args and **kwargs is used in some functions? Create a function each for *args and **kwargs\n",
    "# to demonstrate their use."
   ]
  },
  {
   "cell_type": "code",
   "execution_count": 3,
   "id": "ffa45043-8108-45e3-8311-f37c2f376f03",
   "metadata": {},
   "outputs": [
    {
     "name": "stdout",
     "output_type": "stream",
     "text": [
      "hello sir \n"
     ]
    }
   ],
   "source": [
    "# The *args and **kwargs are used in Python functions to accept a variable number of arguments.\n",
    "# *args is treated as a tuple that contains all the passed arguments. \n",
    "# **kwargs is treated as dictionary that contains the keyword argument names as keys and their corresponding values.\n",
    "def example_of_args(*args):\n",
    "    s=\"\"\n",
    "    for i in args:\n",
    "        if type(i)==str:\n",
    "            s=s+i\n",
    "    return s\n",
    "a=example_of_args(\"hello\",[123],\" sir \")\n",
    "print(a)"
   ]
  },
  {
   "cell_type": "code",
   "execution_count": 1,
   "id": "d30f846c-679d-4b16-8eee-ffb2b1f6f78d",
   "metadata": {},
   "outputs": [],
   "source": [
    "# Q3. What is an iterator in python? Name the method used to initialise the iterator object and the method\n",
    "# used for iteration. Use these methods to print the first five elements of the given list [2, 4, 6, 8, 10, 12, 14,\n",
    "# 16, 18, 20]."
   ]
  },
  {
   "cell_type": "code",
   "execution_count": 2,
   "id": "4c6f07b6-931f-4bb0-81aa-24557ab94554",
   "metadata": {},
   "outputs": [
    {
     "name": "stdout",
     "output_type": "stream",
     "text": [
      "2\n",
      "4\n",
      "6\n",
      "8\n",
      "10\n"
     ]
    }
   ],
   "source": [
    "# Ans-3 In Python, an iterator is an object that enables you to traverse a container or a sequence of elements.\n",
    "# It provides a way to access the elements of a collection one by one without the need to know the  details of that collection.\n",
    "# To initialize an iterator object in Python, you can use the iter() method. \n",
    "# This method takes an iterable object as an argument and returns an iterator object. \n",
    "# The iterator object can then be used to iterate over the elements of the iterable.\n",
    "# To iterate over the elements of an iterator, you can use the next() method. \n",
    "# This method returns the next element in the iterator. By calling next() repeatedly, you can iterate through all the elements in the iterator.\n",
    "# Let's use these methods to print the first five elements of the given list\n",
    "# [2, 4, 6, 8, 10, 12, 14, 16, 18, 20]:\n",
    "l=[2, 4, 6, 8, 10, 12, 14, 16, 18, 20]\n",
    "l_iterator=iter(l)\n",
    "for i in range(0,5,1):\n",
    "    print(next(l_iterator))"
   ]
  },
  {
   "cell_type": "code",
   "execution_count": 3,
   "id": "024a8a8c-b7e5-4b1d-bb01-322e8387a739",
   "metadata": {},
   "outputs": [],
   "source": [
    "# Q4. What is a generator function in python? Why yield keyword is used? Give an example of a generator\n",
    "# function."
   ]
  },
  {
   "cell_type": "code",
   "execution_count": 4,
   "id": "78490983-c65a-43a5-9147-aaf75b6f1ba5",
   "metadata": {},
   "outputs": [
    {
     "name": "stdout",
     "output_type": "stream",
     "text": [
      "0\n",
      "1\n",
      "1\n",
      "2\n",
      "3\n",
      "5\n",
      "8\n",
      "13\n",
      "21\n",
      "34\n"
     ]
    }
   ],
   "source": [
    "# ANS-4 In Python, a generator function is a special type of function that generates a sequence of values\n",
    "# when iterated upon. It uses the yield keyword instead of return to generate values one at a time.\n",
    " \n",
    "# The yield keyword is used within a generator function to yield a value to the caller and suspend the function's\n",
    "#execution temporarily.When the generator function is called again, it resumes from where it left off and continues\n",
    "#its execution until the next yield statement is encountered.\n",
    "\n",
    "#The yield keyword allows generator functions to produce a series of values without the need to store them all in\n",
    "#memory at once,making them memory-efficient and suitable for working with large or infinite sequences.\n",
    "\n",
    "def fibo(x):\n",
    "    a,b,i=0,1,1\n",
    "    for  i in range(x):\n",
    "        yield a\n",
    "        a,b=b,a+b\n",
    "        \n",
    "g=fibo(10)\n",
    "        \n",
    "for i in range(10):\n",
    "    print (next(g))"
   ]
  },
  {
   "cell_type": "code",
   "execution_count": 5,
   "id": "d1d49297-e857-4e88-8ee1-faf035d76b01",
   "metadata": {},
   "outputs": [],
   "source": [
    "Q5. Create a generator function for prime numbers less than 1000. Use the next() method to print the\n",
    "first 20 prime numbers."
   ]
  },
  {
   "cell_type": "code",
   "execution_count": 13,
   "id": "65fa8a01-f7c1-425a-8c83-f89b79047fe4",
   "metadata": {},
   "outputs": [
    {
     "name": "stdout",
     "output_type": "stream",
     "text": [
      "2\n",
      "3\n",
      "5\n",
      "7\n",
      "11\n",
      "13\n",
      "17\n",
      "19\n",
      "23\n",
      "29\n",
      "31\n",
      "37\n",
      "41\n",
      "43\n",
      "47\n",
      "53\n",
      "59\n",
      "61\n",
      "67\n",
      "71\n"
     ]
    }
   ],
   "source": [
    "# Ans-5\n",
    "def prime(x=1000):\n",
    "    yield 2\n",
    "    yield 3\n",
    "    for i in range(4,1000):\n",
    "        \n",
    "        for (j) in range(2,i+1):\n",
    "            if (j)==(i):\n",
    "                yield i\n",
    "                break\n",
    "            if i%(j)==0:\n",
    "                break\n",
    "\n",
    "prime_generator=prime()\n",
    "\n",
    "for k in range(20):\n",
    "    print(next(prime_generator))\n",
    "    \n",
    "            "
   ]
  },
  {
   "cell_type": "code",
   "execution_count": null,
   "id": "c7356127-1a35-4ed1-b1e2-6ffaf5e1fdbb",
   "metadata": {},
   "outputs": [],
   "source": [
    "# Q6. Write a python program to print the first 10 Fibonacci numbers using a while loop."
   ]
  },
  {
   "cell_type": "code",
   "execution_count": 14,
   "id": "11a5c752-3c7e-4a87-8d15-6499d31f2cd6",
   "metadata": {},
   "outputs": [
    {
     "name": "stdout",
     "output_type": "stream",
     "text": [
      "0\n",
      "1\n",
      "1\n",
      "2\n",
      "3\n",
      "5\n",
      "8\n",
      "13\n",
      "21\n",
      "34\n"
     ]
    }
   ],
   "source": [
    "# ans-6\n",
    "def fib():\n",
    "    a,b=0,1\n",
    "    while True:\n",
    "        \n",
    "        yield a\n",
    "        a,b=b,a+b\n",
    "o=fib()\n",
    "for i in range(10):\n",
    "    print(next(o))\n"
   ]
  },
  {
   "cell_type": "code",
   "execution_count": 16,
   "id": "7bb6dffb-7046-4c72-92ae-428768d413c1",
   "metadata": {},
   "outputs": [],
   "source": [
    "Q7. Write a List Comprehension to iterate through the given string: ‘pwskills’.\n",
    "Expected output: ['p', 'w', 's', 'k', 'i', 'l', 'l', 's']"
   ]
  },
  {
   "cell_type": "code",
   "execution_count": 44,
   "id": "6a777a11-d267-4bb8-b8f9-b01977c866fb",
   "metadata": {},
   "outputs": [
    {
     "data": {
      "text/plain": [
       "['p', 'w', 's', 'k', 'i', 'l', 'l', 's']"
      ]
     },
     "execution_count": 44,
     "metadata": {},
     "output_type": "execute_result"
    }
   ],
   "source": [
    "# ans-7 first method\n",
    "\n",
    "s=\"pwskills\"\n",
    "l1=[i for i in s]\n",
    "l1\n",
    "                           # # second method\n",
    "# s=\"pwskills\"\n",
    "# l=[]\n",
    "# for i in s:\n",
    "#     l.append(i)\n",
    "# l\n",
    "\n",
    "                            # # 3 method\n",
    "# s=\"pwskills\"\n",
    "# \" \".join(s)\n",
    "# \" \".join(s).split()"
   ]
  },
  {
   "cell_type": "code",
   "execution_count": 28,
   "id": "872461e7-ea77-4d6f-9d33-e88a8f3cba28",
   "metadata": {},
   "outputs": [],
   "source": [
    "# Q8. Write a python program to check whether a given number is Palindrome or not using a while loop."
   ]
  },
  {
   "cell_type": "code",
   "execution_count": 41,
   "id": "8d24273c-2ebc-48a7-ab31-ee7b7f7b6cc3",
   "metadata": {},
   "outputs": [
    {
     "name": "stdin",
     "output_type": "stream",
     "text": [
      "enter a number we tell u that number Palindrome or not 32\n"
     ]
    },
    {
     "name": "stdout",
     "output_type": "stream",
     "text": [
      "not a Palindrome number\n"
     ]
    }
   ],
   "source": [
    "# ans-8\n",
    "n=int(input(\"enter a number we tell u that number Palindrome or not\"))\n",
    "j=n\n",
    "reverse=0\n",
    "while n>0:\n",
    "    reverse=reverse*(10)+(n%10)\n",
    "    n=int(n/10)\n",
    "    \n",
    "if j==reverse:\n",
    "    print(\"Palindrome number\")\n",
    "else:\n",
    "    print(\"not a Palindrome number\")"
   ]
  },
  {
   "cell_type": "code",
   "execution_count": 42,
   "id": "0d0f6e0d-9a21-41f1-8ba1-24ceb8eec55f",
   "metadata": {},
   "outputs": [],
   "source": [
    "# Q9. Write a code to print odd numbers from 1 to 100 using list comprehension."
   ]
  },
  {
   "cell_type": "code",
   "execution_count": 43,
   "id": "1cd94c3b-6184-4245-bbf5-112b1a6fa117",
   "metadata": {},
   "outputs": [
    {
     "data": {
      "text/plain": [
       "[1,\n",
       " 3,\n",
       " 5,\n",
       " 7,\n",
       " 9,\n",
       " 11,\n",
       " 13,\n",
       " 15,\n",
       " 17,\n",
       " 19,\n",
       " 21,\n",
       " 23,\n",
       " 25,\n",
       " 27,\n",
       " 29,\n",
       " 31,\n",
       " 33,\n",
       " 35,\n",
       " 37,\n",
       " 39,\n",
       " 41,\n",
       " 43,\n",
       " 45,\n",
       " 47,\n",
       " 49,\n",
       " 51,\n",
       " 53,\n",
       " 55,\n",
       " 57,\n",
       " 59,\n",
       " 61,\n",
       " 63,\n",
       " 65,\n",
       " 67,\n",
       " 69,\n",
       " 71,\n",
       " 73,\n",
       " 75,\n",
       " 77,\n",
       " 79,\n",
       " 81,\n",
       " 83,\n",
       " 85,\n",
       " 87,\n",
       " 89,\n",
       " 91,\n",
       " 93,\n",
       " 95,\n",
       " 97,\n",
       " 99]"
      ]
     },
     "execution_count": 43,
     "metadata": {},
     "output_type": "execute_result"
    }
   ],
   "source": [
    "l1=[i for i in range(1,101)]\n",
    "l2=[i for i in l1 if i%2!=0]\n",
    "l2"
   ]
  },
  {
   "cell_type": "code",
   "execution_count": null,
   "id": "a9b480b7-1c9e-4fb0-9c4c-bfb8162a50a8",
   "metadata": {},
   "outputs": [],
   "source": [
    "#complete"
   ]
  }
 ],
 "metadata": {
  "kernelspec": {
   "display_name": "Python 3 (ipykernel)",
   "language": "python",
   "name": "python3"
  },
  "language_info": {
   "codemirror_mode": {
    "name": "ipython",
    "version": 3
   },
   "file_extension": ".py",
   "mimetype": "text/x-python",
   "name": "python",
   "nbconvert_exporter": "python",
   "pygments_lexer": "ipython3",
   "version": "3.10.8"
  }
 },
 "nbformat": 4,
 "nbformat_minor": 5
}
