{
 "cells": [
  {
   "cell_type": "code",
   "execution_count": 1,
   "id": "735c13c1-51cc-41c6-9d74-bbfca87eef40",
   "metadata": {},
   "outputs": [],
   "source": [
    "#Q1. Explain with an example each when to use a for loop and a while loop."
   ]
  },
  {
   "cell_type": "code",
   "execution_count": 2,
   "id": "ebabe416-fb24-4bec-93f1-0667c7017e8a",
   "metadata": {},
   "outputs": [
    {
     "name": "stdout",
     "output_type": "stream",
     "text": [
      "apple\n",
      "banana\n",
      "orange\n",
      "grape\n",
      "0\n",
      "1\n",
      "2\n",
      "3\n",
      "4\n"
     ]
    }
   ],
   "source": [
    "# ans1 For Loop:\n",
    "# A for loop is typically used when you know the exact number of iterations in advance or when you need ..\n",
    "#.. to iterate over a sequence (such as a list, tuple, string, or range) of known length.\n",
    "\n",
    "#example for for loop\n",
    "fruits = ['apple', 'banana', 'orange', 'grape']\n",
    "\n",
    "for i in fruits:\n",
    "    print(i)\n",
    "    \n",
    "# While Loop:\n",
    "# A while loop is used when you want to repeatedly execute a block of code until a certain condition is met.\n",
    "# example for while loop\n",
    "\n",
    "count=0\n",
    "while count<5:\n",
    "    print(count)\n",
    "    count=count+1"
   ]
  },
  {
   "cell_type": "code",
   "execution_count": 8,
   "id": "9ee03962-e488-4b35-ac5b-6e410de8f554",
   "metadata": {},
   "outputs": [],
   "source": [
    "# Q-2 Write a python program to print the sum and product of the first 10 natural numbers using for\n",
    "# and while loop."
   ]
  },
  {
   "cell_type": "code",
   "execution_count": 7,
   "id": "8a6d7049-55b7-4ca5-93ba-d647e956cafb",
   "metadata": {},
   "outputs": [
    {
     "name": "stdout",
     "output_type": "stream",
     "text": [
      " FOR for loop sum and product of the first 10 natural numbers\n",
      "sum is  55  product is  3628800\n",
      "FOR while loop sum and product of the first 10 natural numbers\n",
      "sum is  55  product is  3628800\n"
     ]
    }
   ],
   "source": [
    " # Ans-2\n",
    "print(\" FOR for loop sum and product of the first 10 natural numbers\")\n",
    "sum,product=0,1\n",
    "for i in range (1,11):\n",
    "    sum=sum+i\n",
    "    product=product*i\n",
    "print(\"sum is \",sum,\" product is \",product)\n",
    "\n",
    "print(\"FOR while loop sum and product of the first 10 natural numbers\")\n",
    "\n",
    "sum,product,count=0,1,1\n",
    "while count<=10:\n",
    "    sum=sum+count\n",
    "    product=product*count\n",
    "    count=count+1\n",
    "print(\"sum is \",sum,\" product is \",product)"
   ]
  },
  {
   "cell_type": "code",
   "execution_count": 13,
   "id": "7fff1371-4196-477b-9d05-040fb1376776",
   "metadata": {},
   "outputs": [],
   "source": [
    "# Q3. Create a python program to compute the electricity bill for a household.\n",
    "\n",
    "# The per-unit charges in rupees are as follows: For the first 100 units, the user will be charged Rs. 4.5 per\n",
    "# unit, for the next 100 units, the user will be charged Rs. 6 per unit, and for the next 100 units, the user will\n",
    "# be charged Rs. 10 per unit, After 300 units and above the user will be charged Rs. 20 per unit.\n",
    "# You are required to take the units of electricity consumed in a month from the user as input.\n",
    "# Your program must pass this test case: when the unit of electricity consumed by the user in a month is\n",
    "# 310, the total electricity bill should be 2250."
   ]
  },
  {
   "cell_type": "code",
   "execution_count": 11,
   "id": "1a0904bd-fae5-49ae-ba9f-b719c0a355f1",
   "metadata": {},
   "outputs": [
    {
     "name": "stdin",
     "output_type": "stream",
     "text": [
      "enter units of electricity consumed in a month 310\n"
     ]
    },
    {
     "data": {
      "text/plain": [
       "2250.0"
      ]
     },
     "execution_count": 11,
     "metadata": {},
     "output_type": "execute_result"
    }
   ],
   "source": [
    "# Ans-3\n",
    "units=int(input(\"enter units of electricity consumed in a month\"))\n",
    "amount=0\n",
    "if 0<units<=100:\n",
    "    amount=amount+units*4.5\n",
    "elif 100<units<200:\n",
    "    amount=amount+(units-100)*6+100 * 4.5\n",
    "elif 200<units<=300:\n",
    "    amount=amount+(units-200)*10+100 * 4.5 + 100 * 6\n",
    "elif 300<units:\n",
    "    amount=amount+(units-300)*20+100 * 4.5 + 100 * 6 + 100 * 10\n",
    "amount"
   ]
  },
  {
   "cell_type": "code",
   "execution_count": 12,
   "id": "a46b9f5a-616b-4277-9931-62b6fbba2bcd",
   "metadata": {},
   "outputs": [],
   "source": [
    "# Q4. Create a list of numbers from 1 to 100. Use for loop and while loop to calculate the cube of each\n",
    "# number and if the cube of that number is divisible by 4 or 5 then append that number in a list and print\n",
    "# that list."
   ]
  },
  {
   "cell_type": "code",
   "execution_count": 23,
   "id": "efb95a17-6b25-421a-b782-b9c647cbb7be",
   "metadata": {},
   "outputs": [
    {
     "data": {
      "text/plain": [
       "[2,\n",
       " 4,\n",
       " 5,\n",
       " 6,\n",
       " 8,\n",
       " 10,\n",
       " 12,\n",
       " 14,\n",
       " 15,\n",
       " 16,\n",
       " 18,\n",
       " 20,\n",
       " 22,\n",
       " 24,\n",
       " 25,\n",
       " 26,\n",
       " 28,\n",
       " 30,\n",
       " 32,\n",
       " 34,\n",
       " 35,\n",
       " 36,\n",
       " 38,\n",
       " 40,\n",
       " 42,\n",
       " 44,\n",
       " 45,\n",
       " 46,\n",
       " 48,\n",
       " 50,\n",
       " 52,\n",
       " 54,\n",
       " 55,\n",
       " 56,\n",
       " 58,\n",
       " 60,\n",
       " 62,\n",
       " 64,\n",
       " 65,\n",
       " 66,\n",
       " 68,\n",
       " 70,\n",
       " 72,\n",
       " 74,\n",
       " 75,\n",
       " 76,\n",
       " 78,\n",
       " 80,\n",
       " 82,\n",
       " 84,\n",
       " 85,\n",
       " 86,\n",
       " 88,\n",
       " 90,\n",
       " 92,\n",
       " 94,\n",
       " 95,\n",
       " 96,\n",
       " 98,\n",
       " 100]"
      ]
     },
     "execution_count": 23,
     "metadata": {},
     "output_type": "execute_result"
    }
   ],
   "source": [
    "#ans-4\n",
    "l1=list(range(1,101))\n",
    "l2=[]\n",
    "#for loop to calculate the cube of each number \n",
    "for i in l1:\n",
    "    i**3\n",
    "#while loop to calculate the cube of each number\n",
    "count=1\n",
    "while count<=100:\n",
    "    cube=count**3\n",
    "    count=count+1\n",
    "#if the cube of that number is divisible by 4 or 5 then append \n",
    "for i in l1:\n",
    "    if (i**3)%5==0 or (i**3)%4==0:\n",
    "        l2.append(i)\n",
    "l2\n"
   ]
  },
  {
   "cell_type": "code",
   "execution_count": 42,
   "id": "aa407b7a-be37-4784-81f3-ea2ba87f6ef4",
   "metadata": {},
   "outputs": [],
   "source": [
    "# Q5. Write a program to filter count vowels in the below-given string.\n",
    "# string = \"I want to become a data scientist\""
   ]
  },
  {
   "cell_type": "code",
   "execution_count": 55,
   "id": "00a5cb72-66fb-4158-89ca-c41f3cc91cf6",
   "metadata": {},
   "outputs": [
    {
     "data": {
      "text/plain": [
       "12"
      ]
     },
     "execution_count": 55,
     "metadata": {},
     "output_type": "execute_result"
    }
   ],
   "source": [
    "string = \"I want to become a data scientist\"\n",
    "count=0\n",
    "count=count+(string.lower()).count(\"a\")\n",
    "count=count+(string.lower()).count(\"e\")\n",
    "count=count+(string.lower()).count(\"i\")\n",
    "count=count+(string.lower()).count(\"o\")\n",
    "count=count+(string.lower()).count(\"u\")\n",
    "count"
   ]
  },
  {
   "cell_type": "code",
   "execution_count": 56,
   "id": "98cc5546-21be-4ea4-b4c0-c5c781844de1",
   "metadata": {},
   "outputs": [
    {
     "data": {
      "text/plain": [
       "12"
      ]
     },
     "execution_count": 56,
     "metadata": {},
     "output_type": "execute_result"
    }
   ],
   "source": [
    "#second mrthod\n",
    "l=[\"a\",\"e\",\"i\",\"o\",\"u\"]\n",
    "string = \"I want to become a data scientist\"\n",
    "num=0\n",
    "for i in string.lower():\n",
    "    if i in l:\n",
    "        num+=1\n",
    "num"
   ]
  },
  {
   "cell_type": "code",
   "execution_count": null,
   "id": "45cff875-7fed-484b-b045-f76d665e0336",
   "metadata": {},
   "outputs": [],
   "source": []
  }
 ],
 "metadata": {
  "kernelspec": {
   "display_name": "Python 3 (ipykernel)",
   "language": "python",
   "name": "python3"
  },
  "language_info": {
   "codemirror_mode": {
    "name": "ipython",
    "version": 3
   },
   "file_extension": ".py",
   "mimetype": "text/x-python",
   "name": "python",
   "nbconvert_exporter": "python",
   "pygments_lexer": "ipython3",
   "version": "3.10.8"
  }
 },
 "nbformat": 4,
 "nbformat_minor": 5
}
