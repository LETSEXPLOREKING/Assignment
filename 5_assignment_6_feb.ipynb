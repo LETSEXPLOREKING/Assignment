{
 "cells": [
  {
   "cell_type": "code",
   "execution_count": 1,
   "id": "022e9fdf-0fdd-4aa2-8b19-b179305c29ec",
   "metadata": {},
   "outputs": [],
   "source": [
    "# Q1. Create a function which will take a list as an argument and return the product of all the numbers\n",
    "# after creating a flat list.\n",
    "# Use the below-given list as an argument for your function.\n",
    "# list1 = [1,2,3,4, [44,55,66, True], False, (34,56,78,89,34), {1,2,3,3,2,1}, {1:34, \"key2\": [55, 67, 78, 89], 4: (45,\n",
    "# 22, 61, 34)}, [56, 'data science'], 'Machine Learning']"
   ]
  },
  {
   "cell_type": "code",
   "execution_count": 94,
   "id": "da4455df-0420-430c-a624-7c8791af2c39",
   "metadata": {},
   "outputs": [
    {
     "name": "stdout",
     "output_type": "stream",
     "text": [
      "4134711838987085478833841242112000\n"
     ]
    }
   ],
   "source": [
    "# ans-1 first metho\n",
    "list1 = [1,2,3,4, [44,55,66, True], False, (34,56,78,89,34), {1,2,3,3,2,1}, {1:34, \"key2\": [55, 67, 78, 89], 4: (45,\n",
    "22, 61, 34)}, [56, 'data science'], 'Machine Learning']\n",
    "\n",
    "def product(l):\n",
    "    pro=1\n",
    "    for i in (l):\n",
    "        if type(i)==int:\n",
    "            pro=pro*i\n",
    "        elif type(i)==tuple or type(i)==set or type(i)==list :\n",
    "            for j in i:\n",
    "                if type(j)==int:\n",
    "                    pro=pro*j\n",
    "        if type(i)==dict:\n",
    "            for j in i.keys():\n",
    "                if type(j)==int:\n",
    "                    pro=pro*j\n",
    "            for j in i.values():\n",
    "                if type(j)==int:\n",
    "                    pro=pro*j\n",
    "\n",
    "                elif type(j)==tuple or type(j)==set or type(j)==list :\n",
    "                    for k in j:\n",
    "                        if type(k)==int:\n",
    "                            pro=pro*k       \n",
    "    return pro\n",
    "\n",
    "print(product(list1))\n",
    "        "
   ]
  },
  {
   "cell_type": "code",
   "execution_count": 155,
   "id": "1db252da-c9a2-4a5a-af6b-b01b0150849a",
   "metadata": {},
   "outputs": [
    {
     "name": "stdout",
     "output_type": "stream",
     "text": [
      "4134711838987085478833841242112000\n"
     ]
    }
   ],
   "source": [
    "# ans-1 second method\n",
    "list1 = [1,2,3,4, [44,55,66, True], False, (34,56,78,89,34), {1,2,3,3,2,1}, {1:34, \"key2\": [55, 67, 78, 89], 4: (45,\n",
    "22, 61, 34)}, [56, 'data science'], 'Machine Learning']\n",
    "\n",
    "def produc(j):\n",
    "    pr=1\n",
    "    for i in j:\n",
    "        if type(i)==tuple or type(i)==set or type(i)==list :\n",
    "            for k in i:\n",
    "                if type(k)==int:\n",
    "                    pr=pr*k\n",
    "        if type(i)==int:\n",
    "            pr=pr*i\n",
    "        \n",
    "    return pr\n",
    "def prou(l):\n",
    "    pro=1\n",
    "    for i in (l):\n",
    "        if type(i)==int:\n",
    "            pro=pro*i\n",
    "        elif type(i)==tuple or type(i)==set or type(i)==list :\n",
    "            pro=pro*produc(i)\n",
    "        elif type(i)==dict:\n",
    "            pro=pro*produc(i.keys())\n",
    "            pro=pro*produc(i.values())\n",
    "      \n",
    "    return pro\n",
    "print(prou(list1))"
   ]
  },
  {
   "cell_type": "code",
   "execution_count": null,
   "id": "0be1e423-fa8b-44df-8c62-74d6e214d40c",
   "metadata": {},
   "outputs": [],
   "source": [
    "ans-1 third method WHICH IS ASK IN THE QUESTION IS BELOW"
   ]
  },
  {
   "cell_type": "code",
   "execution_count": 125,
   "id": "c5f5111f-4153-431e-95e1-193f9c4d2d33",
   "metadata": {},
   "outputs": [
    {
     "data": {
      "text/plain": [
       "4134711838987085478833841242112000"
      ]
     },
     "execution_count": 125,
     "metadata": {},
     "output_type": "execute_result"
    }
   ],
   "source": [
    "# ans-1 third method WHICH IS ASK IN THE QUESTION\n",
    "l=[]\n",
    "def flat (j):\n",
    "    def help(i):\n",
    "        for k in i:\n",
    "            if type(k)==int:\n",
    "                l.append(k)\n",
    "            if type(k)==tuple or type(k)==set or type(k)==list :\n",
    "                flat(k)\n",
    "        \n",
    "    for i in j:\n",
    "        if type(i)==tuple or type(i)==set or type(i)==list :\n",
    "            help(i)\n",
    "         \n",
    "        elif type(i)==int:\n",
    "            l.append(i)\n",
    "        elif type(i)==dict:\n",
    "            help(i.keys())\n",
    "            help(i.values())\n",
    "            \n",
    "\n",
    "flat(list1)\n",
    "from functools import reduce\n",
    "reduce(lambda a,b:a*b,l)"
   ]
  },
  {
   "cell_type": "code",
   "execution_count": 128,
   "id": "0d60c73d-bcd5-44c0-b209-b0225d223810",
   "metadata": {},
   "outputs": [],
   "source": [
    "# Q2. Write a python program for encrypting a message sent to you by your friend. The logic of encryption\n",
    "# should be such that, for a the output should be z. For b, the output should be y. For c, the output should\n",
    "# be x respectively. Also, the whitespace should be replaced with a dollar sign. Keep the punctuation\n",
    "# marks unchanged.\n",
    "# Input Sentence: I want to become a Data Scientist.\n",
    "# Encrypt the above input sentence using the program you just created.\n",
    "# Note: Convert the given input sentence into lowercase before encrypting. The final output should be\n",
    "# lowercase."
   ]
  },
  {
   "cell_type": "code",
   "execution_count": 158,
   "id": "f02f6982-c88e-4436-a518-821c11cfb829",
   "metadata": {},
   "outputs": [
    {
     "data": {
      "text/plain": [
       "'r$dzmg$gl$yvxlnv$z$wzgz$hxrvmgrhg.'"
      ]
     },
     "execution_count": 158,
     "metadata": {},
     "output_type": "execute_result"
    }
   ],
   "source": [
    "# ANS-2\n",
    "s=\"I want to become a Data Scientist.\"\n",
    "s1=s.lower()\n",
    "l=[]\n",
    "s2=\"\"\n",
    "for i in s1:\n",
    "    if i==\" \":\n",
    "        l.append(ord(\"$\"))\n",
    "        continue\n",
    "    elif 122>=ord(i)>=97:\n",
    "        k=ord(i)-97       #97 is ord(\"a\")\n",
    "        r=122-k          #122 is ord(\"z\")\n",
    "        l.append(r)\n",
    "        continue\n",
    "    l.append(ord(i))\n",
    "    \n",
    "for i in l:\n",
    "    s2=s2+chr(i)\n",
    "s2"
   ]
  },
  {
   "cell_type": "code",
   "execution_count": null,
   "id": "7c8ce09e-6109-486d-8766-7aea2205cd71",
   "metadata": {},
   "outputs": [],
   "source": [
    "#complete"
   ]
  }
 ],
 "metadata": {
  "kernelspec": {
   "display_name": "Python 3 (ipykernel)",
   "language": "python",
   "name": "python3"
  },
  "language_info": {
   "codemirror_mode": {
    "name": "ipython",
    "version": 3
   },
   "file_extension": ".py",
   "mimetype": "text/x-python",
   "name": "python",
   "nbconvert_exporter": "python",
   "pygments_lexer": "ipython3",
   "version": "3.10.8"
  }
 },
 "nbformat": 4,
 "nbformat_minor": 5
}
